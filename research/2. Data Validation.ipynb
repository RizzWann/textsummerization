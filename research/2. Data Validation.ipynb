{
 "cells": [
  {
   "cell_type": "code",
   "execution_count": 1,
   "metadata": {},
   "outputs": [
    {
     "data": {
      "text/plain": [
       "'e:\\\\DS\\\\ComputerVision\\\\textsummerization\\\\research'"
      ]
     },
     "execution_count": 1,
     "metadata": {},
     "output_type": "execute_result"
    }
   ],
   "source": [
    "%pwd"
   ]
  },
  {
   "cell_type": "code",
   "execution_count": 2,
   "metadata": {},
   "outputs": [],
   "source": [
    "import os \n",
    "os.chdir('../')"
   ]
  },
  {
   "cell_type": "code",
   "execution_count": 3,
   "metadata": {},
   "outputs": [
    {
     "data": {
      "text/plain": [
       "'e:\\\\DS\\\\ComputerVision\\\\textsummerization'"
      ]
     },
     "execution_count": 3,
     "metadata": {},
     "output_type": "execute_result"
    }
   ],
   "source": [
    "%pwd"
   ]
  },
  {
   "cell_type": "code",
   "execution_count": 4,
   "metadata": {},
   "outputs": [],
   "source": [
    "from dataclasses import dataclass\n",
    "from pathlib import Path\n",
    "@dataclass(frozen=True)\n",
    "class DataValidationConfig:\n",
    "    root_dir : Path\n",
    "    STATUS_FILE: str\n",
    "    ALL_REQUIRED_FILES: list"
   ]
  },
  {
   "cell_type": "code",
   "execution_count": 5,
   "metadata": {},
   "outputs": [],
   "source": [
    "from src.textsummerizer.constants import *\n",
    "from src.textsummerizer.utils.commman import read_yaml,create_directories\n",
    "from src.textsummerizer.entity import DataIngestionConfig\n",
    "\n",
    "\n",
    "class ConfigurationManager:\n",
    "      def __init__(self,\n",
    "                 config_path = CONFIG_FILE_PATH,\n",
    "                 params_path = PARAMAS_FILE_PATH):\n",
    "            self.config = read_yaml(config_path)\n",
    "            self.params = read_yaml(params_path)\n",
    "            create_directories([self.config.artifacts_root])\n",
    "\n",
    "      def data_validation(self)->DataValidationConfig:\n",
    "            config = self.config.data_validation\n",
    "\n",
    "            create_directories([config.root_dir])\n",
    "\n",
    "            data_validation = DataValidationConfig(\n",
    "                  root_dir=config.root_dir,\n",
    "                  STATUS_FILE=config.STATUS_FILE,\n",
    "                  ALL_REQUIRED_FILES=config.ALL_REQUIRED_FILES\n",
    "            )\n",
    "\n",
    "            return data_validation\n",
    "                  "
   ]
  },
  {
   "cell_type": "code",
   "execution_count": 6,
   "metadata": {},
   "outputs": [],
   "source": [
    "import os\n",
    "from src.textsummerizer.logging import logger\n",
    "\n",
    "class DataValidation:\n",
    "    def __init__(self,config:DataValidationConfig):\n",
    "        self.config = config\n",
    "\n",
    "    def validate_all_files_exists(self)->bool:\n",
    "        try: \n",
    "            validation_status = True\n",
    "\n",
    "            all_files = os.listdir(os.path.join('artifacts','data_ingestion','samsum_dataset'))\n",
    "\n",
    "            for file in all_files:\n",
    "                if file not in self.config.ALL_REQUIRED_FILES:\n",
    "                    validation_status = False\n",
    "                    with open(self.config.STATUS_FILE,'w') as file:\n",
    "                        file.write(f'Valdation status: {validation_status}')\n",
    "                else:\n",
    "                    validation_status = True\n",
    "                    with open(self.config.STATUS_FILE,'w') as file:\n",
    "                        file.write(f'Valdation status: {validation_status}')\n",
    "            return validation_status  \n",
    "        except Exception as e:\n",
    "            raise e          "
   ]
  },
  {
   "cell_type": "code",
   "execution_count": 8,
   "metadata": {},
   "outputs": [
    {
     "name": "stdout",
     "output_type": "stream",
     "text": [
      "[2023-06-20 12:48:34,770 : INFO: commman: Yaml file: config\\config.yaml loaded]\n",
      "[2023-06-20 12:48:34,773 : INFO: commman: Yaml file: params.yaml loaded]\n",
      "[2023-06-20 12:48:34,775 : INFO: commman: Directory: artifacts created]\n",
      "[2023-06-20 12:48:34,778 : INFO: commman: Directory: artifacts/data_validation created]\n"
     ]
    }
   ],
   "source": [
    "try:\n",
    "    config = ConfigurationManager()\n",
    "    data_validation_config = config.data_validation()\n",
    "    data_validation = DataValidation(config=data_validation_config)\n",
    "    data_validation.validate_all_files_exists()\n",
    "    \n",
    "except Exception as e:\n",
    "    raise e  "
   ]
  },
  {
   "cell_type": "code",
   "execution_count": null,
   "metadata": {},
   "outputs": [],
   "source": []
  }
 ],
 "metadata": {
  "kernelspec": {
   "display_name": "textS",
   "language": "python",
   "name": "python3"
  },
  "language_info": {
   "codemirror_mode": {
    "name": "ipython",
    "version": 3
   },
   "file_extension": ".py",
   "mimetype": "text/x-python",
   "name": "python",
   "nbconvert_exporter": "python",
   "pygments_lexer": "ipython3",
   "version": "3.8.16"
  },
  "orig_nbformat": 4
 },
 "nbformat": 4,
 "nbformat_minor": 2
}
